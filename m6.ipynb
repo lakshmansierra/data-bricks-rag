{
 "cells": [
  {
   "cell_type": "markdown",
   "id": "47ccbaff",
   "metadata": {},
   "source": [
    "# Demo Overview\n",
    " \n",
    "\n",
    " \n",
    "In this demo, we will walk through basic real-time deployment capabilities in Databricks. Model Serving allows us to deploy models and query it using various methods.\n",
    " \n",
    "\n",
    "In this demo, we'll discuss this in the following steps:\n",
    " \n",
    "1. Prepare a model to be deployed.\n",
    " \n",
    "2. Deploy the registered model to a Databricks Model Serving endpoint.\n",
    " \n",
    "3. Query the endpoint using various methods such as python sdk and mlflow deployments.\n",
    " \n",
    " \n"
   ]
  },
  {
   "cell_type": "markdown",
   "id": "cb2867f3",
   "metadata": {},
   "source": [
    "# Model Preparation\n",
    " \n",
    "When we do this, we need to first to create our model.\n",
    " \n",
    "We have already created a RAG model as a part of the set up of this lesson and have logged it in Unity Catalog for governance purposes and ease of deployment to Model Serving."
   ]
  },
  {
   "cell_type": "code",
   "execution_count": null,
   "id": "fbe1e6cb",
   "metadata": {},
   "outputs": [],
   "source": [
    "import mlflow\n",
    "from mlflow import MlflowClient\n",
    "\n",
    "# Construct model name correctly without extra space\n",
    "model_name = f\"{DA.catalog_name}.{DA.schema_name}.rag_app\"\n",
    "\n",
    "# Point to Unity Catalog registry\n",
    "mlflow.set_registry_uri(\"databricks-uc\")\n",
    "\n",
    "def get_latest_model_version(model_name_in: str = None) -> str:\n",
    "    '''\n",
    "    Get latest version of registered model\n",
    "    '''\n",
    "    client = MlflowClient()\n",
    "    \n",
    "    model_version_infos = client.search_model_versions(f\"name = '{model_name_in}'\")\n",
    "    \n",
    "    if model_version_infos:\n",
    "        return max([model_version_info.version for model_version_info in model_version_infos])\n",
    "    else:\n",
    "        return None\n"
   ]
  },
  {
   "cell_type": "code",
   "execution_count": null,
   "id": "6831256a",
   "metadata": {},
   "outputs": [],
   "source": [
    "latest_model_version = get_latest_model_version(model_name)\n",
    "\n",
    "if latest_model_version:\n",
    "    print(f\"Model created and logged to: {model_name}/{latest_model_version}\")\n",
    "else:\n",
    "    raise BaseException(\"Error: Model not created, verify if 00-Build-Model script ran successfully!\")\n"
   ]
  },
  {
   "cell_type": "markdown",
   "id": "26d1d7ba",
   "metadata": {},
   "source": []
  },
  {
   "cell_type": "code",
   "execution_count": 1,
   "id": "c420a631",
   "metadata": {},
   "outputs": [
    {
     "name": "stdout",
     "output_type": "stream",
     "text": [
      "Collecting matplotlib\n",
      "  Using cached matplotlib-3.10.3-cp312-cp312-win_amd64.whl.metadata (11 kB)\n",
      "Collecting contourpy>=1.0.1 (from matplotlib)\n",
      "  Using cached contourpy-1.3.2-cp312-cp312-win_amd64.whl.metadata (5.5 kB)\n",
      "Collecting cycler>=0.10 (from matplotlib)\n",
      "  Using cached cycler-0.12.1-py3-none-any.whl.metadata (3.8 kB)\n",
      "Collecting fonttools>=4.22.0 (from matplotlib)\n",
      "  Downloading fonttools-4.58.5-cp312-cp312-win_amd64.whl.metadata (109 kB)\n",
      "Collecting kiwisolver>=1.3.1 (from matplotlib)\n",
      "  Using cached kiwisolver-1.4.8-cp312-cp312-win_amd64.whl.metadata (6.3 kB)\n",
      "Requirement already satisfied: numpy>=1.23 in c:\\users\\stalin\\appdata\\local\\programs\\python\\python312\\lib\\site-packages (from matplotlib) (2.3.1)\n",
      "Requirement already satisfied: packaging>=20.0 in c:\\users\\stalin\\appdata\\local\\programs\\python\\python312\\lib\\site-packages (from matplotlib) (24.2)\n",
      "Collecting pillow>=8 (from matplotlib)\n",
      "  Downloading pillow-11.3.0-cp312-cp312-win_amd64.whl.metadata (9.2 kB)\n",
      "Collecting pyparsing>=2.3.1 (from matplotlib)\n",
      "  Using cached pyparsing-3.2.3-py3-none-any.whl.metadata (5.0 kB)\n",
      "Requirement already satisfied: python-dateutil>=2.7 in c:\\users\\stalin\\appdata\\roaming\\python\\python312\\site-packages (from matplotlib) (2.9.0.post0)\n",
      "Requirement already satisfied: six>=1.5 in c:\\users\\stalin\\appdata\\roaming\\python\\python312\\site-packages (from python-dateutil>=2.7->matplotlib) (1.17.0)\n",
      "Using cached matplotlib-3.10.3-cp312-cp312-win_amd64.whl (8.1 MB)\n",
      "Using cached contourpy-1.3.2-cp312-cp312-win_amd64.whl (223 kB)\n",
      "Using cached cycler-0.12.1-py3-none-any.whl (8.3 kB)\n",
      "Downloading fonttools-4.58.5-cp312-cp312-win_amd64.whl (2.2 MB)\n",
      "   ---------------------------------------- 0.0/2.2 MB ? eta -:--:--\n",
      "   ------------------ --------------------- 1.0/2.2 MB 4.6 MB/s eta 0:00:01\n",
      "   ------------------------------------- -- 2.1/2.2 MB 5.1 MB/s eta 0:00:01\n",
      "   ---------------------------------------- 2.2/2.2 MB 5.0 MB/s eta 0:00:00\n",
      "Using cached kiwisolver-1.4.8-cp312-cp312-win_amd64.whl (71 kB)\n",
      "Downloading pillow-11.3.0-cp312-cp312-win_amd64.whl (7.0 MB)\n",
      "   ---------------------------------------- 0.0/7.0 MB ? eta -:--:--\n",
      "   ---- ----------------------------------- 0.8/7.0 MB 4.8 MB/s eta 0:00:02\n",
      "   ---------- ----------------------------- 1.8/7.0 MB 4.8 MB/s eta 0:00:02\n",
      "   --------------- ------------------------ 2.6/7.0 MB 4.4 MB/s eta 0:00:01\n",
      "   --------------------- ------------------ 3.7/7.0 MB 4.7 MB/s eta 0:00:01\n",
      "   --------------------------- ------------ 4.7/7.0 MB 4.8 MB/s eta 0:00:01\n",
      "   --------------------------------- ------ 5.8/7.0 MB 4.9 MB/s eta 0:00:01\n",
      "   ---------------------------------------  6.8/7.0 MB 4.9 MB/s eta 0:00:01\n",
      "   ---------------------------------------- 7.0/7.0 MB 4.8 MB/s eta 0:00:00\n",
      "Using cached pyparsing-3.2.3-py3-none-any.whl (111 kB)\n",
      "Installing collected packages: pyparsing, pillow, kiwisolver, fonttools, cycler, contourpy, matplotlib\n",
      "Successfully installed contourpy-1.3.2 cycler-0.12.1 fonttools-4.58.5 kiwisolver-1.4.8 matplotlib-3.10.3 pillow-11.3.0 pyparsing-3.2.3\n",
      "Note: you may need to restart the kernel to use updated packages.\n"
     ]
    },
    {
     "name": "stderr",
     "output_type": "stream",
     "text": [
      "  WARNING: The scripts fonttools.exe, pyftmerge.exe, pyftsubset.exe and ttx.exe are installed in 'c:\\Users\\stalin\\AppData\\Local\\Programs\\Python\\Python312\\Scripts' which is not on PATH.\n",
      "  Consider adding this directory to PATH or, if you prefer to suppress this warning, use --no-warn-script-location.\n",
      "\n",
      "[notice] A new release of pip is available: 24.2 -> 25.1.1\n",
      "[notice] To update, run: python.exe -m pip install --upgrade pip\n"
     ]
    }
   ],
   "source": [
    "pip install matplotlib\n"
   ]
  },
  {
   "cell_type": "code",
   "execution_count": 4,
   "id": "2bc6a451",
   "metadata": {},
   "outputs": [
    {
     "data": {
      "image/png": "[encoded data removed]",
      "text/plain": [
       "<Figure size 640x480 with 1 Axes>"
      ]
     },
     "metadata": {},
     "output_type": "display_data"
    }
   ],
   "source": [
    "import matplotlib.pyplot as plt\n",
    "import matplotlib.image as mpimg\n",
    "\n",
    "img = mpimg.imread(\"Screenshot 2025-07-08 162318.png\")\n",
    "plt.imshow(img)\n",
    "plt.axis('off')  # hides axis\n",
    "plt.show()\n"
   ]
  },
  {
   "cell_type": "markdown",
   "id": "3ba54da9",
   "metadata": {},
   "source": [
    "# Deploy model using databricks-sdk API\n",
    " \n",
    "In the notebook we will use the API to create the endpoint and serving the model.\n",
    " \n",
    "Note: You could also simply use the Ul for this task.\n",
    " \n",
    "Expected deployment time: ~10 mins"
   ]
  },
  {
   "cell_type": "code",
   "execution_count": null,
   "id": "0b42a7a8",
   "metadata": {},
   "outputs": [],
   "source": [
    "from databricks.sdk.service.serving import EndpointCoreConfigInput\n",
    "\n",
    "# Configure the endpoint\n",
    "endpoint_config_dict = {\n",
    "    \"served_models\": [\n",
    "        {\n",
    "            \"model_name\": model_name,\n",
    "            \"model_version\": latest_model_version,\n",
    "            \"scale_to_zero_enabled\": True,\n",
    "            \"workload_size\": \"Small\",\n",
    "            \"environment_vars\": {\n",
    "                \"DATABRICKS_TOKEN\": \"{{secrets/genai_training/depl_demo_token}}\",\n",
    "                \"DATABRICKS_HOST\": \"{{secrets/genai_training/depl_demo_host}}\"\n",
    "            },\n",
    "            \"auto_capture_config\": {\n",
    "                \"catalog_name\": DA.catalog_name,\n",
    "                \"schema_name\": DA.schema_name,\n",
    "                \"table_name_prefix\": \"rag_app_realtime\"\n",
    "            }\n",
    "        }\n",
    "    ]\n",
    "}\n",
    "\n",
    "# Create EndpointCoreConfigInput object from dictionary\n",
    "endpoint_config = EndpointCoreConfigInput.from_dict(endpoint_config_dict)\n"
   ]
  },
  {
   "cell_type": "code",
   "execution_count": null,
   "id": "69da27e3",
   "metadata": {},
   "outputs": [],
   "source": [
    "from databricks.sdk import WorkspaceClient\n",
    "\n",
    "# Initiate the workspace client\n",
    "w = WorkspaceClient()\n",
    "\n",
    "serving_endpoint_name = f\"{DA.unique_name('_')}_endpoint\"\n",
    "\n",
    "# Get endpoint if it exists\n",
    "existing_endpoint = next(\n",
    "    (e for e in w.serving_endpoints.list() if e.name == serving_endpoint_name), None\n",
    ")\n",
    "\n",
    "# Get Databricks host from notebook context\n",
    "db_host = dbutils.notebook.entry_point.getDbutils().notebook().getContext().tags().get(\"browserHostName\").value()\n",
    "\n",
    "serving_endpoint_url = f\"{db_host}/ml/endpoints/{serving_endpoint_name}\"\n",
    "\n",
    "# If endpoint doesn't exist, create it\n",
    "if existing_endpoint is None:\n",
    "    print(f\"Creating the endpoint {serving_endpoint_url}, this will take a few minutes to package and deploy the endpoint...\")\n",
    "    w.serving_endpoints.create_and_wait(name=serving_endpoint_name, config=endpoint_config)\n",
    "\n",
    "# If endpoint does exist, update it to serve the new version\n",
    "else:\n",
    "    print(f\"Updating the endpoint {serving_endpoint_url} to version {latest_model_version}, this will take a few minutes to package and deploy the endpoint...\")\n",
    "    w.serving_endpoints.update_config_and_wait(\n",
    "        name=serving_endpoint_name,\n",
    "        served_models=endpoint_config.served_models\n",
    "    )\n",
    "\n",
    "# Show clickable link to the endpoint\n",
    "displayHTML(\n",
    "    f'Your Model Endpoint is now available. Open the '\n",
    "    f'<a href=\"/ml/endpoints/{serving_endpoint_name}\" target=\"_blank\">'\n",
    "    f'Model Serving Endpoint page</a> for more details.'\n",
    ")\n"
   ]
  },
  {
   "cell_type": "markdown",
   "id": "1dd3684f",
   "metadata": {},
   "source": [
    "Perform Inference on the Model\n",
    " \n",
    "Next, we will want to perform inference using the model - that is, provide input and return output.\n",
    " \n",
    "We'll start with a simple example of a single input:"
   ]
  },
  {
   "cell_type": "code",
   "execution_count": null,
   "id": "8a985ca7",
   "metadata": {},
   "outputs": [],
   "source": [
    "question=\"what is PPO\""
   ]
  },
  {
   "cell_type": "markdown",
   "id": "c4ca4ceb",
   "metadata": {},
   "source": [
    "# INFERENCE WITH SDK"
   ]
  },
  {
   "cell_type": "code",
   "execution_count": null,
   "id": "1a8559e8",
   "metadata": {},
   "outputs": [],
   "source": [
    "answer = w.serving_endpoints.query(serving_endpoint_name, inputs=[{\"query\": question}])\n",
    "\n",
    "print(answer.predictions)\n"
   ]
  },
  {
   "cell_type": "markdown",
   "id": "eacbaec4",
   "metadata": {},
   "source": [
    "# inference with MLflow deployment"
   ]
  },
  {
   "cell_type": "code",
   "execution_count": null,
   "id": "81acdbc9",
   "metadata": {},
   "outputs": [],
   "source": [
    "from mlflow.deployments import get_deploy_client\n",
    "\n",
    "deploy_client = get_deploy_client(\"databricks\")\n",
    "\n",
    "response = deploy_client.predict(\n",
    "    endpoint=serving_endpoint_name,\n",
    "    inputs={\"inputs\": [{\"query\": question}]}\n",
    ")\n",
    "\n",
    "print(response.predictions)\n"
   ]
  },
  {
   "cell_type": "markdown",
   "id": "2491f305",
   "metadata": {},
   "source": [
    "# Demo Overview\n",
    " \n",
    "In this demonstration, we will be introducing Lakehouse Monitoring for GenAl applications.\n",
    " \n",
    "To complete this demo, we'll follow the below steps:\n",
    " \n",
    "1. Unpack the Inference Table for an existing Model Serving Endpoint.\n",
    " \n",
    "2. Compute some LLM metrics.\n",
    " \n",
    "3. Describe the basics of using Lakehouse Monitoring.\n",
    " \n",
    "4. Set up a more robust monitor using Lakehouse Monitoring"
   ]
  },
  {
   "cell_type": "markdown",
   "id": "3a16a514",
   "metadata": {},
   "source": [
    "# Step1: Create Inference Table\n",
    " \n",
    "To demonstrate monitoring, we will create a pre-populated sample inference table. The inference table is already created for you in the course config notebook."
   ]
  },
  {
   "cell_type": "code",
   "execution_count": null,
   "id": "c3e1e7c1",
   "metadata": {},
   "outputs": [],
   "source": [
    "from delta.tables import DeltaTable\n",
    "\n",
    "inference_table_name = f\"{DA.catalog_name}.{DA.schema_name}.rag_app_realtime_payload\"\n",
    "\n",
    "# Check whether the table exists before proceeding\n",
    "if spark._jsparkSession.catalog().tableExists(inference_table_name):\n",
    "    display(spark.sql(f\"SELECT * FROM {inference_table_name} LIMIT 5\"))\n",
    "else:\n",
    "    raise Exception(\"Inference table does not exist, please re-run or verify the classroom setup script.\")\n"
   ]
  },
  {
   "cell_type": "markdown",
   "id": "bd6948bb",
   "metadata": {},
   "source": [
    "# 2.1: Unpacking the table\n",
    " \n",
    "The request and response columns contains model prompts and output as a string.\n",
    " \n",
    "Note: the format depends on model definition but inputs are usually represented as JSON with TF format, and the output depends on model definition as well.\n",
    " \n",
    "We will use Spark JSON Path annotation to directly access the prompt and completions as string, concatenate them together with an array_zip and finally explode the content to have single prompt/completions rows.\n",
    " \n",
    "Note: This will be made easier within the product directly--we provide this notebook to simplify this task for now."
   ]
  },
  {
   "cell_type": "code",
   "execution_count": null,
   "id": "b489f33b",
   "metadata": {},
   "outputs": [],
   "source": [
    "# The format of the input payloads, following the TF \"inputs\" serving format with a \"query\" field.\n",
    "\n",
    "# Single query input format: {\"inputs\": [{\"query\": \"User question?\"}]}\n",
    "INPUT_REQUEST_JSON_PATH = \"inputs[*].query\"\n",
    "\n",
    "# Matches the schema returned by the JSON selector (inputs[*].query is an array of strings)\n",
    "INPUT_JSON_PATH_TYPE = \"array<string>\"\n",
    "\n",
    "KEEP_LAST_QUESTION_ONLY = False\n",
    "\n",
    "# Answer format: {\"predictions\": [\"answer\"]}\n",
    "OUTPUT_REQUEST_JSON_PATH = \"predictions\"\n",
    "\n",
    "# Matches the schema returned by the JSON selector (predictions is an array of strings)\n",
    "OUTPUT_JSON_PATH_TYPE = \"array<string>\"\n"
   ]
  },
  {
   "cell_type": "markdown",
   "id": "f2040632",
   "metadata": {},
   "source": [
    "Now test the unpacking on a simple in more batch mode"
   ]
  },
  {
   "cell_type": "code",
   "execution_count": null,
   "id": "38fd3a6e",
   "metadata": {},
   "outputs": [],
   "source": [
    "payloads_sample_df = spark.table(inference_table_name).where('status_code = 200').limit(18)\n",
    "\n",
    "payloads_unpacked_sample_df = unpack_requests(\n",
    "    payloads_sample_df,\n",
    "    INPUT_REQUEST_JSON_PATH,\n",
    "    INPUT_JSON_PATH_TYPE,\n",
    "    OUTPUT_REQUEST_JSON_PATH,\n",
    "    OUTPUT_JSON_PATH_TYPE,\n",
    "    KEEP_LAST_QUESTION_ONLY\n",
    ")\n",
    "\n",
    "display(payloads_unpacked_sample_df)\n"
   ]
  },
  {
   "cell_type": "markdown",
   "id": "3a2c5ae2",
   "metadata": {},
   "source": [
    "2.2: Compute [Prompt-Completion] Evaluation Metrics\n",
    " \n",
    "Let's compute some text evaluation metrics such as toxicity, perplexity and readability.\n",
    " \n",
    "These will be analyzed by Lakehouse Monitoring so that we can understand how these metrics change over time.\n",
    " \n",
    "Note: This is a non-exhaustive list and these calculations will be automatically performed out-of-the-box within the product --we provide this notebook to simplify this task for now."
   ]
  },
  {
   "cell_type": "code",
   "execution_count": null,
   "id": "7155a422",
   "metadata": {},
   "outputs": [],
   "source": [
    "import tiktoken, textstat, evaluate\n",
    "import pandas as pd\n",
    "from pyspark.sql.functions import pandas_udf\n",
    "\n",
    "@pandas_udf(\"int\")\n",
    "def compute_num_tokens(texts: pd.Series) -> pd.Series:\n",
    "    encoding = tiktoken.get_encoding(\"cl100k_base\")\n",
    "    return pd.Series(map(len, encoding.encode_batch(texts)))\n",
    "\n",
    "@pandas_udf(\"double\")\n",
    "def flesch_kincaid_grade(texts: pd.Series) -> pd.Series:\n",
    "    return pd.Series([textstat.flesch_kincaid_grade(text) for text in texts])\n",
    "\n",
    "@pandas_udf(\"double\")\n",
    "def automated_readability_index(texts: pd.Series) -> pd.Series:\n",
    "    return pd.Series([textstat.automated_readability_index(text) for text in texts])\n",
    "\n",
    "@pandas_udf(\"double\")\n",
    "def compute_toxicity(texts: pd.Series) -> pd.Series:\n",
    "    # Omit entries with null input from evaluation\n",
    "    toxicity = evaluate.load(\"toxicity\", module_type=\"measurement\", cache_dir=\"/tmp/hf_cache/\")\n",
    "    return pd.Series(toxicity.compute(predictions=texts.fillna(\"\"))[\"toxicity\"]).where(texts.notna(), None)\n",
    "\n",
    "@pandas_udf(\"double\")\n",
    "def compute_perplexity(texts: pd.Series) -> pd.Series:\n",
    "    # Omit entries with null input from evaluation\n",
    "    perplexity = evaluate.load(\"perplexity\", module_type=\"measurement\", cache_dir=\"/tmp/hf_cache/\")\n",
    "    return pd.Series(perplexity.compute(data=texts.fillna(\"\"), model_id=\"gpt2\")[\"perplexities\"]).where(texts.notna(), None)\n"
   ]
  },
  {
   "cell_type": "code",
   "execution_count": null,
   "id": "9a15819d",
   "metadata": {},
   "outputs": [],
   "source": [
    "from pyspark.sql import DataFrame\n",
    "from pyspark.sql.functions import col\n",
    "\n",
    "def compute_metrics(requests_df: DataFrame, column_to_measure: list = [\"input\", \"output\"]) -> DataFrame:\n",
    "    for column_name in column_to_measure:\n",
    "        requests_df = (\n",
    "            requests_df.withColumn(f\"toxicity({column_name})\", compute_toxicity(col(column_name)))\n",
    "                       .withColumn(f\"perplexity({column_name})\", compute_perplexity(col(column_name)))\n",
    "                       .withColumn(f\"token_count({column_name})\", compute_num_tokens(col(column_name)))\n",
    "                       .withColumn(f\"flesch_kincaid_grade({column_name})\", flesch_kincaid_grade(col(column_name)))\n",
    "                       .withColumn(f\"automated_readability_index({column_name})\", automated_readability_index(col(column_name)))\n",
    "        )\n",
    "    return requests_df\n"
   ]
  },
  {
   "cell_type": "code",
   "execution_count": null,
   "id": "a4138388",
   "metadata": {},
   "outputs": [],
   "source": [
    "import os\n",
    "\n",
    "# Reset checkpoint (for demo purposes ONLY)\n",
    "checkpoint_location = os.path.join(DA.paths.working_dir, \"checkpoint\")\n",
    "dbutils.fs.rm(checkpoint_location, True)\n",
    "\n",
    "# Unpack the requests as a stream\n",
    "requests_raw_df = spark.readStream.table(inference_table_name)\n",
    "\n",
    "requests_processed_df = unpack_requests(\n",
    "    requests_raw_df,\n",
    "    INPUT_REQUEST_JSON_PATH,\n",
    "    INPUT_JSON_PATH_TYPE,\n",
    "    OUTPUT_REQUEST_JSON_PATH,\n",
    "    OUTPUT_JSON_PATH_TYPE,\n",
    "    KEEP_LAST_QUESTION_ONLY\n",
    ")\n",
    "\n",
    "# Drop unnecessary columns for monitoring jobs\n",
    "requests_processed_df = requests_processed_df.drop(\n",
    "    \"date\", \"status_code\", \"sampling_fraction\", \"client_request_id\", \"databricks_request_id\"\n",
    ")\n",
    "\n",
    "# Compute text evaluation metrics\n",
    "requests_with_metrics_df = compute_metrics(requests_processed_df)\n"
   ]
  },
  {
   "cell_type": "code",
   "execution_count": null,
   "id": "7c0edfa1",
   "metadata": {},
   "outputs": [],
   "source": [
    "from delta.tables import DeltaTable\n",
    "\n",
    "def create_processed_table_if_not_exists(table_name: str, requests_with_metrics):\n",
    "    \"\"\"\n",
    "    Helper method to create a Delta table using the schema of the given DataFrame,\n",
    "    with change data feed (CDF) and column mapping enabled.\n",
    "    \"\"\"\n",
    "    if not spark._jsparkSession.catalog().tableExists(table_name):\n",
    "        # Write empty DataFrame with schema to create the table\n",
    "        (\n",
    "            requests_with_metrics.limit(0)\n",
    "            .write\n",
    "            .format(\"delta\")\n",
    "            .option(\"delta.enableChangeDataFeed\", \"true\")\n",
    "            .option(\"delta.columnMapping.mode\", \"name\")\n",
    "            .saveAsTable(table_name)\n",
    "        )\n"
   ]
  },
  {
   "cell_type": "code",
   "execution_count": null,
   "id": "e1faa02c",
   "metadata": {},
   "outputs": [],
   "source": [
    "from delta.tables import DeltaTable\n",
    "\n",
    "def create_processed_table_if_not_exists(table_name: str, requests_with_metrics):\n",
    "    \"\"\"\n",
    "    Helper method to create a Delta table using the schema of the given DataFrame,\n",
    "    with change data feed (CDF) and column mapping enabled.\n",
    "    \"\"\"\n",
    "    if not spark._jsparkSession.catalog().tableExists(table_name):\n",
    "        # Write empty DataFrame with schema to create the table\n",
    "        (\n",
    "            requests_with_metrics.limit(0)\n",
    "            .write\n",
    "            .format(\"delta\")\n",
    "            .option(\"delta.enableChangeDataFeed\", \"true\")\n",
    "            .option(\"delta.columnMapping.mode\", \"name\")\n",
    "            .saveAsTable(table_name)\n",
    "        )\n"
   ]
  },
  {
   "cell_type": "code",
   "execution_count": null,
   "id": "bb613f93",
   "metadata": {},
   "outputs": [],
   "source": [
    "# Persist the requests stream, with a defined checkpoint path for this table\n",
    "\n",
    "processed_table_name = f\"{DA.catalog_name}.{DA.schema_name}.rag_app_processed_inferences\"\n",
    "\n",
    "# Create the table if it doesn't exist\n",
    "create_processed_table_if_not_exists(processed_table_name, requests_with_metrics_df)\n",
    "\n",
    "# Append new unpacked payloads & metrics\n",
    "(\n",
    "    requests_with_metrics_df.writeStream\n",
    "    .trigger(availableNow=True)\n",
    "    .format(\"delta\")\n",
    "    .outputMode(\"append\")\n",
    "    .option(\"checkpointLocation\", checkpoint_location)  # corrected key name\n",
    "    .toTable(processed_table_name)\n",
    "    .awaitTermination()\n",
    ")\n",
    "\n",
    "# Display the table (with requests and text evaluation metrics) that will be monitored\n",
    "display(spark.table(processed_table_name))\n"
   ]
  },
  {
   "cell_type": "markdown",
   "id": "eb1c5ac5",
   "metadata": {},
   "source": [
    "# step 3 describe the basic of lakehouse monitering"
   ]
  },
  {
   "cell_type": "markdown",
   "id": "09281a81",
   "metadata": {},
   "source": []
  },
  {
   "cell_type": "markdown",
   "id": "59ff308f",
   "metadata": {},
   "source": []
  },
  {
   "cell_type": "markdown",
   "id": "3d63ba52",
   "metadata": {},
   "source": []
  },
  {
   "cell_type": "markdown",
   "id": "beedee02",
   "metadata": {},
   "source": [
    "# 4.2 using the databricks sdk"
   ]
  },
  {
   "cell_type": "code",
   "execution_count": null,
   "id": "52f05a80",
   "metadata": {},
   "outputs": [],
   "source": [
    "from databricks.sdk import WorkspaceClient\n",
    "from databricks.sdk.service.catalog import MonitorTimeSeries\n",
    "import os\n",
    "\n",
    "# Create monitor using databricks-sdk's 'quality_monitors' client\n",
    "w = WorkspaceClient()\n",
    "\n",
    "try:\n",
    "    lhm_monitor = w.quality_monitors.create(\n",
    "        table_name=processed_table_name,  # Always use 3-level namespace\n",
    "        time_series=MonitorTimeSeries(\n",
    "            timestamp_col=\"timestamp\",\n",
    "            granularities=[\"5 minutes\"]\n",
    "        ),\n",
    "        assets_dir=os.getcwd(),\n",
    "        slicing_exprs=[\"model_id\"],\n",
    "        output_schema_name=f\"{DA.catalog_name}.{DA.schema_name}\"\n",
    "    )\n",
    "except Exception as lhm_exception:\n",
    "    print(lhm_exception)\n"
   ]
  },
  {
   "cell_type": "code",
   "execution_count": null,
   "id": "14c8ca9d",
   "metadata": {},
   "outputs": [],
   "source": [
    "from databricks.sdk.service.catalog import MonitorInfoStatus\n",
    "\n",
    "# Get monitor info\n",
    "monitor_info = w.quality_monitors.get(processed_table_name)\n",
    "\n",
    "# Print monitor status\n",
    "print(monitor_info.status)\n",
    "\n",
    "# Suggest next action if it's still creating\n",
    "if monitor_info.status == MonitorInfoStatus.MONITOR_STATUS_PENDING:\n",
    "    print(\"Wait until monitor creation is completed...\")\n"
   ]
  },
  {
   "cell_type": "code",
   "execution_count": null,
   "id": "0fc68127",
   "metadata": {},
   "outputs": [],
   "source": [
    "monitor_info = w.quality_monitors.get(processed_table_name)\n",
    "\n",
    "assert monitor_info.status == MonitorInfoStatus.MONITOR_STATUS_ACTIVE, \\\n",
    "    \"Monitoring is not ready yet. Check back in a few minutes or view the monitoring creation process for any errors.\"\n"
   ]
  }
 ],
 "metadata": {
  "kernelspec": {
   "display_name": "Python 3",
   "language": "python",
   "name": "python3"
  },
  "language_info": {
   "codemirror_mode": {
    "name": "ipython",
    "version": 3
   },
   "file_extension": ".py",
   "mimetype": "text/x-python",
   "name": "python",
   "nbconvert_exporter": "python",
   "pygments_lexer": "ipython3",
   "version": "3.12.7"
  }
 },
 "nbformat": 4,
 "nbformat_minor": 5
}
